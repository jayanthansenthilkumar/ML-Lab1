{
 "cells": [
  {
   "cell_type": "code",
   "execution_count": 1,
   "id": "afec7cb3",
   "metadata": {},
   "outputs": [],
   "source": [
    "import pandas as pd\n",
    "import numpy as np\n",
    "\n",
    "# Define the data\n",
    "data = {\n",
    "    'animal_name': ['lion', 'tiger', 'zebra', 'elephant', 'giraffe'],\n",
    "    'hair': [1, 1, 0, 0, 1],\n",
    "    'feathers': [0, 0, 0, 0, 0],\n",
    "    'eggs': [0, 0, 0, 0, 0],\n",
    "    'milk': [1, 1, 0, 1, 1],\n",
    "    'airborne': [0, 0, 0, 0, 0],\n",
    "    'aquatic': [0, 0, 0, 0, 0],\n",
    "    'predator': [1, 1, 0, 0, 0],\n",
    "    'toothed': [1, 1, 1, 1, 1],\n",
    "    'backbone': [1, 1, 1, 1, 1],\n",
    "    'breathes': [1, 1, 1, 1, 1],\n",
    "    'venomous': [0, 0, 0, 0, 0],\n",
    "    'fins': [0, 0, 0, 0, 0],\n",
    "    'legs': [4, 4, 4, 4, 4],\n",
    "    'tail': [1, 1, 1, 1, 1],\n",
    "    'domestic': [0, 0, 0, 0, 0],\n",
    "    'catsize': [1, 1, 1, 1, 1],\n",
    "    'class_type': [1, 1, 1, 2, 2]  # Assuming 1 for mammals, 2 for birds\n",
    "}\n",
    "\n",
    "# Create DataFrame\n",
    "df = pd.DataFrame(data)\n",
    "\n",
    "# Save DataFrame to CSV file\n",
    "df.to_csv('zoo.csv', index=False)\n"
   ]
  },
  {
   "cell_type": "code",
   "execution_count": null,
   "id": "32f8d28a",
   "metadata": {},
   "outputs": [],
   "source": []
  }
 ],
 "metadata": {
  "kernelspec": {
   "display_name": "Python 3 (ipykernel)",
   "language": "python",
   "name": "python3"
  },
  "language_info": {
   "codemirror_mode": {
    "name": "ipython",
    "version": 3
   },
   "file_extension": ".py",
   "mimetype": "text/x-python",
   "name": "python",
   "nbconvert_exporter": "python",
   "pygments_lexer": "ipython3",
   "version": "3.11.5"
  }
 },
 "nbformat": 4,
 "nbformat_minor": 5
}
